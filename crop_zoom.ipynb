{
 "cells": [
  {
   "cell_type": "markdown",
   "metadata": {},
   "source": [
    "# Libraries"
   ]
  },
  {
   "cell_type": "code",
   "execution_count": null,
   "metadata": {},
   "outputs": [],
   "source": [
    "import tifffile as tiff\n",
    "from scipy.ndimage import zoom\n",
    "from tqdm import tqdm\n",
    "import concurrent.futures\n",
    "import os"
   ]
  },
  {
   "cell_type": "markdown",
   "metadata": {},
   "source": [
    "# Helper Functions"
   ]
  },
  {
   "cell_type": "code",
   "execution_count": null,
   "metadata": {},
   "outputs": [],
   "source": [
    "def get_omeTifs_list(directory_path):\n",
    "    \"\"\"\n",
    "    Retrieves a list of all files in the specified directory with the `.ome.tif` extension.\n",
    "\n",
    "    Args:\n",
    "        directory_path (str): Path to the directory containing OME-TIF files.\n",
    "\n",
    "    Returns:\n",
    "        list: A list of file names that have the `.ome.tif` extension.\n",
    "    \"\"\"\n",
    "    # List containing .ome.tif file names in the given directory.\n",
    "    omeTif_list = [f for f in os.listdir(directory_path) if f.endswith(\".ome.tif\")]\n",
    "\n",
    "    return omeTif_list"
   ]
  },
  {
   "cell_type": "code",
   "execution_count": null,
   "metadata": {},
   "outputs": [],
   "source": [
    "def read_omeTif(path):\n",
    "    \"\"\"\n",
    "    Reads an OME-TIF file and extracts its metadata and image data.\n",
    "\n",
    "    Args:\n",
    "        path (str): Path to the OME-TIF file.\n",
    "\n",
    "    Returns:\n",
    "        tuple:\n",
    "            - omeTif_metadata (str): OME metadata as an XML string.\n",
    "            - omeTif_imgData (numpy.ndarray): Image data from the OME-TIF file as a NumPy array.\n",
    "    \"\"\"\n",
    "    # Open the OME-TIF file.\n",
    "    with tiff.TiffFile(path) as tif:\n",
    "        omeTif_metadata = tif.ome_metadata\n",
    "        # Load the image data and convert it to a NumPy array\n",
    "        omeTif_imgData = tif.asarray()\n",
    "\n",
    "    return (omeTif_metadata, omeTif_imgData)"
   ]
  },
  {
   "cell_type": "code",
   "execution_count": null,
   "metadata": {},
   "outputs": [],
   "source": [
    "def save_transformed_omeTif(output_filePath, omeTif_imgData, omeTif_metadata):\n",
    "    \"\"\"\n",
    "    Saves OME-TIFF file at the given path.\n",
    "\n",
    "    Args:\n",
    "        output_filePath (str): Path to sav the OME-TIF file.\n",
    "\n",
    "        omeTif_imgData (numpy.ndarray):  Image data of the OME-TIF file.\n",
    "\n",
    "        omeTif_metadata (str): OME-TIF file metadata\n",
    "    \"\"\"\n",
    "    # Open the TIFF writer in BigTIFF format to handle large files\n",
    "    with tiff.TiffWriter(output_filePath, bigtiff=True) as tif:\n",
    "        # Write the OME-TIF file\n",
    "        tif.write(\n",
    "            omeTif_imgData,  # OME-TIF image data\n",
    "            photometric=\"minisblack\",  # Grayscale image specification\n",
    "            metadata={\"axes\": \"ZYX\", \"ome\": omeTif_metadata},  # Metadata includes axes and OME information\n",
    "            compression=\"zlib\",  # Use zlib compression to reduce file size\n",
    "        )"
   ]
  },
  {
   "cell_type": "code",
   "execution_count": null,
   "metadata": {},
   "outputs": [],
   "source": [
    "def crop_zoom_ometif(file_name, directory_path, output_dirPath, x_axis):\n",
    "    \"\"\"\n",
    "    Crops the OME-TIF file to the desired x dimensions and then \n",
    "    zooms it back to the original X shape.\n",
    "\n",
    "    Args:\n",
    "        file_name (str): Name of the OME-TIFF file.\n",
    "\n",
    "        directory_path (str): Path to the directory containing the OME-TIF file.\n",
    "\n",
    "        output_dirPath (str): Path to the directory to sav the OME-TIF file.\n",
    "\n",
    "        x_axis (tuple): A tuple with X1 and X2 coordinates for cropping.\n",
    "    \"\"\"\n",
    "    # creats the path to/save the OME-TIF file.\n",
    "    file_path = os.path.join(directory_path, file_name)\n",
    "    output_filePath = os.path.join(output_dirPath, file_name)\n",
    "    \n",
    "    # Read\n",
    "    omeTif_metadata, omeTif_imgData = read_omeTif(file_path)\n",
    "    \n",
    "    # Get the X shape\n",
    "    _, _, X_shape = omeTif_imgData.shape\n",
    "\n",
    "    # Crop the image to the shape -> (Z, Y, x2 - x1)\n",
    "    omeTif_imgData = omeTif_imgData[:, :, x_axis[0]:x_axis[1]] \n",
    "\n",
    "    # Zoom factor for each dimension to go back to original shape -> (Z, Y, X)\n",
    "    zoom_factors = (\n",
    "        1.0,  # no change to Z\n",
    "        1.0,  # no change to Y\n",
    "        X_shape / (x_axis[1] - x_axis[0])  # stretch X dimension back\n",
    "    )\n",
    "    # Current shape is (Z, Y, x2 - x1). Original is (Z, Y, X).\n",
    "    # Zoom with order=1 -> bilinear\n",
    "    omeTif_imgData = zoom(omeTif_imgData, zoom=zoom_factors, order=1)\n",
    "    \n",
    "    # Save\n",
    "    save_transformed_omeTif(output_filePath, omeTif_imgData, omeTif_metadata)\n",
    "\n",
    "    return 1"
   ]
  },
  {
   "cell_type": "code",
   "execution_count": null,
   "metadata": {},
   "outputs": [],
   "source": [
    "def parallel_crop_zoom(directory_path, output_dirPath, omeTif_list, x_axis, tiles, max_workers=2):\n",
    "    \"\"\"\n",
    "    In Parallel, crop the OME-TIFF files and zoom back to the original dimensions.\n",
    "\n",
    "    Args:\n",
    "\n",
    "        directory_path (str): Path to the directory containing the OME-TIF files.\n",
    "\n",
    "        output_dirPath (str): Path to the directory to sav the OME-TIF file.\n",
    "\n",
    "        omeTif_list (list): List of `.ome.tif` file names at the directory_path.\n",
    "\n",
    "        x_axis (tuple): A tuple with X1 and X2 coordinates for cropping.\n",
    "\n",
    "        tiles (tuple): A tuple to specify the start and end tile to perform the crop and zoom.\n",
    "\n",
    "        max_worker (int): Number of CPUs working in parallel.\n",
    "    \"\"\"\n",
    "    # counter\n",
    "    done = 0\n",
    "    \n",
    "    # ProcessPoolExecutor for parallel processing \n",
    "    with concurrent.futures.ProcessPoolExecutor(max_workers=max_workers) as executor:\n",
    "        # Submit all crop_zoom jobs\n",
    "        futures = [\n",
    "            executor.submit(\n",
    "                crop_zoom_ometif, file_name, directory_path, output_dirPath, x_axis\n",
    "            )\n",
    "            for file_name in omeTif_list\n",
    "        ]\n",
    "\n",
    "        # Collect results with a progress bar\n",
    "        for future in tqdm(\n",
    "            concurrent.futures.as_completed(futures), \n",
    "            total=len(futures), \n",
    "            desc=f\"Applying crop and zoom on the set ({tiles[0]}, {tiles[1]}) parallel\"\n",
    "        ):\n",
    "            # error check\n",
    "            try:\n",
    "                done += future.result()\n",
    "            except Exception as e:\n",
    "                print(f\"Error processing a file: {e}\")\n",
    "\n",
    "    print(f\"All {done} files have been processed and saved.\")"
   ]
  },
  {
   "cell_type": "markdown",
   "metadata": {},
   "source": [
    "# Main"
   ]
  },
  {
   "cell_type": "code",
   "execution_count": null,
   "metadata": {},
   "outputs": [],
   "source": [
    "# Directory containing and to save the OME-TIF files\n",
    "directory_path =  \"path/to/OME-TIF/files/dir\"\n",
    "output_dirPath = \"path/to/the/output/dir\"\n",
    "\n",
    "# Create output directory if it doesn't exist\n",
    "try:\n",
    "    os.makedirs(output_dirPath, exist_ok=True)\n",
    "    print(f\"Directory {output_dirPath} created successfully\")\n",
    "except OSError as error:\n",
    "    print(f\"Directory {output_dirPath} cannot be created\")"
   ]
  },
  {
   "cell_type": "code",
   "execution_count": null,
   "metadata": {},
   "outputs": [],
   "source": [
    "# Get the list of OME-TIF files\n",
    "omeTif_list = get_omeTifs_list(directory_path)\n",
    "omeTif_list.sort()"
   ]
  },
  {
   "cell_type": "code",
   "execution_count": null,
   "metadata": {},
   "outputs": [],
   "source": [
    "# A list containing a lists of X coordinates under the index\n",
    "# [0] and [1] for cropping  and,\n",
    "# the starting and ending tiles to perform that cropping on as under the index\n",
    "# [2] and [3]\n",
    "crop_dict = [\n",
    "  [6872, 11868, 3, 14],\n",
    "  [6165, 11086, 18, 23],\n",
    "  [2865, 10200, 25, 29],\n",
    "  [1772, 5533, 32, 40]\n",
    "]"
   ]
  },
  {
   "cell_type": "code",
   "execution_count": null,
   "metadata": {},
   "outputs": [],
   "source": [
    "# number of cpus to work in parallel\n",
    "max_workers=5"
   ]
  },
  {
   "cell_type": "code",
   "execution_count": null,
   "metadata": {},
   "outputs": [],
   "source": [
    "# for every X coordinates crop\n",
    "for group in crop_dict:\n",
    "    x_axis = (group[0], group[1])\n",
    "    tiles = (group[2], group[3])\n",
    "    # get the tiles name to perform the cropping on.\n",
    "    omeTif_list_temp = [\n",
    "        omeTif_list[x + tiles[0]]           \n",
    "        for x in range(tiles[1] - tiles[0] + 1)\n",
    "    ]\n",
    "    # perform crop and zoom in parallel\n",
    "    parallel_crop_zoom(directory_path, output_dirPath, omeTif_list_temp, x_axis, tiles, max_workers)"
   ]
  }
 ],
 "metadata": {
  "kernelspec": {
   "display_name": ".venv",
   "language": "python",
   "name": "python3"
  },
  "language_info": {
   "codemirror_mode": {
    "name": "ipython",
    "version": 3
   },
   "file_extension": ".py",
   "mimetype": "text/x-python",
   "name": "python",
   "nbconvert_exporter": "python",
   "pygments_lexer": "ipython3",
   "version": "3.12.3"
  }
 },
 "nbformat": 4,
 "nbformat_minor": 2
}
